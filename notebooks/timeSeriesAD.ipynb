{
 "cells": [
  {
   "cell_type": "markdown",
   "metadata": {
    "collapsed": true,
    "pycharm": {
     "name": "#%% md\n"
    }
   },
   "source": [
    "# Time Series Anomaly Detection\n",
    "\n",
    "This project will use the following dataset:\n",
    "\n",
    "https://www.kaggle.com/boltzmannbrain/nab/code?datasetId=110&sortBy=voteCount"
   ]
  },
  {
   "cell_type": "code",
   "source": [
    "import numpy as np # linear algebra\n",
    "import pandas as pd # data processing, CSV file I/O (e.g. pd.read_csv)\n",
    "import matplotlib.pyplot as plt #Data Visualization\n",
    "import matplotlib.dates as md\n",
    "\n",
    "dataset = pd.read_csv('../models/nab/artificialWithAnomaly/artificialWithAnomaly/art_daily_jumpsdown.csv', encoding='unicode_escape')\n",
    "# print first 10 rows of dataset to better understand general data\n",
    "dataset.head(10)"
   ],
   "metadata": {
    "collapsed": false,
    "pycharm": {
     "name": "#%%\n"
    }
   },
   "execution_count": 13,
   "outputs": [
    {
     "data": {
      "text/plain": "             timestamp      value\n0  2014-04-01 00:00:00  18.090486\n1  2014-04-01 00:05:00  20.359843\n2  2014-04-01 00:10:00  21.105470\n3  2014-04-01 00:15:00  21.151585\n4  2014-04-01 00:20:00  18.137141\n5  2014-04-01 00:25:00  21.625661\n6  2014-04-01 00:30:00  21.673807\n7  2014-04-01 00:35:00  20.245561\n8  2014-04-01 00:40:00  19.928333\n9  2014-04-01 00:45:00  18.179470",
      "text/html": "<div>\n<style scoped>\n    .dataframe tbody tr th:only-of-type {\n        vertical-align: middle;\n    }\n\n    .dataframe tbody tr th {\n        vertical-align: top;\n    }\n\n    .dataframe thead th {\n        text-align: right;\n    }\n</style>\n<table border=\"1\" class=\"dataframe\">\n  <thead>\n    <tr style=\"text-align: right;\">\n      <th></th>\n      <th>timestamp</th>\n      <th>value</th>\n    </tr>\n  </thead>\n  <tbody>\n    <tr>\n      <th>0</th>\n      <td>2014-04-01 00:00:00</td>\n      <td>18.090486</td>\n    </tr>\n    <tr>\n      <th>1</th>\n      <td>2014-04-01 00:05:00</td>\n      <td>20.359843</td>\n    </tr>\n    <tr>\n      <th>2</th>\n      <td>2014-04-01 00:10:00</td>\n      <td>21.105470</td>\n    </tr>\n    <tr>\n      <th>3</th>\n      <td>2014-04-01 00:15:00</td>\n      <td>21.151585</td>\n    </tr>\n    <tr>\n      <th>4</th>\n      <td>2014-04-01 00:20:00</td>\n      <td>18.137141</td>\n    </tr>\n    <tr>\n      <th>5</th>\n      <td>2014-04-01 00:25:00</td>\n      <td>21.625661</td>\n    </tr>\n    <tr>\n      <th>6</th>\n      <td>2014-04-01 00:30:00</td>\n      <td>21.673807</td>\n    </tr>\n    <tr>\n      <th>7</th>\n      <td>2014-04-01 00:35:00</td>\n      <td>20.245561</td>\n    </tr>\n    <tr>\n      <th>8</th>\n      <td>2014-04-01 00:40:00</td>\n      <td>19.928333</td>\n    </tr>\n    <tr>\n      <th>9</th>\n      <td>2014-04-01 00:45:00</td>\n      <td>18.179470</td>\n    </tr>\n  </tbody>\n</table>\n</div>"
     },
     "execution_count": 13,
     "metadata": {},
     "output_type": "execute_result"
    }
   ]
  },
  {
   "cell_type": "code",
   "execution_count": 14,
   "outputs": [
    {
     "data": {
      "text/plain": "(4032, 2)"
     },
     "execution_count": 14,
     "metadata": {},
     "output_type": "execute_result"
    }
   ],
   "source": [
    "# shows number of rows and columns\n",
    "dataset.shape"
   ],
   "metadata": {
    "collapsed": false,
    "pycharm": {
     "name": "#%%\n"
    }
   }
  },
  {
   "cell_type": "code",
   "execution_count": 15,
   "outputs": [
    {
     "name": "stdout",
     "output_type": "stream",
     "text": [
      "<class 'pandas.core.frame.DataFrame'>\n",
      "RangeIndex: 4032 entries, 0 to 4031\n",
      "Data columns (total 2 columns):\n",
      " #   Column     Non-Null Count  Dtype  \n",
      "---  ------     --------------  -----  \n",
      " 0   timestamp  4032 non-null   object \n",
      " 1   value      4032 non-null   float64\n",
      "dtypes: float64(1), object(1)\n",
      "memory usage: 63.1+ KB\n"
     ]
    }
   ],
   "source": [
    "# gives general useful info about dataset such as null count and type of each column\n",
    "dataset.info()"
   ],
   "metadata": {
    "collapsed": false,
    "pycharm": {
     "name": "#%%\n"
    }
   }
  },
  {
   "cell_type": "code",
   "execution_count": 16,
   "outputs": [
    {
     "data": {
      "text/plain": "<AxesSubplot:xlabel='timestamp'>"
     },
     "execution_count": 16,
     "metadata": {},
     "output_type": "execute_result"
    },
    {
     "data": {
      "text/plain": "<Figure size 432x288 with 1 Axes>",
      "image/png": "[encoded data removed]"
     },
     "metadata": {
      "needs_background": "light"
     },
     "output_type": "display_data"
    }
   ],
   "source": [
    "# change the type of timestamp column for plotting\n",
    "dataset['timestamp'] = pd.to_datetime(dataset['timestamp'])\n",
    "# change fahrenheit to °C (temperature mean= 71 -> fahrenheit)\n",
    "dataset['value'] = (dataset['value'] - 32) * 5/9\n",
    "# plot the data\n",
    "dataset.plot(x='timestamp', y='value')"
   ],
   "metadata": {
    "collapsed": false,
    "pycharm": {
     "name": "#%%\n"
    }
   }
  }
 ],
 "metadata": {
  "kernelspec": {
   "display_name": "Python 3",
   "language": "python",
   "name": "python3"
  },
  "language_info": {
   "codemirror_mode": {
    "name": "ipython",
    "version": 2
   },
   "file_extension": ".py",
   "mimetype": "text/x-python",
   "name": "python",
   "nbconvert_exporter": "python",
   "pygments_lexer": "ipython2",
   "version": "2.7.6"
  }
 },
 "nbformat": 4,
 "nbformat_minor": 0
}